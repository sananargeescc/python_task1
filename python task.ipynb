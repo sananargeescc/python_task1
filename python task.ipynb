{
  "cells": [
    {
      "cell_type": "markdown",
      "metadata": {
        "id": "hCzh6JnU7RN0"
      },
      "source": [
        "1.Write a programe to find the factorial of a number."
      ]
    },
    {
      "cell_type": "code",
      "execution_count": null,
      "metadata": {
        "colab": {
          "base_uri": "https://localhost:8080/"
        },
        "id": "JWidX_mh84Z-",
        "outputId": "2290d795-8a21-4381-b6ae-4a6a38bd8b6d"
      },
      "outputs": [
        {
          "output_type": "stream",
          "name": "stdout",
          "text": [
            "Enter the number:4\n",
            "24\n"
          ]
        }
      ],
      "source": [
        "num=int(input(\"Enter the number:\"))\n",
        "factorial=1\n",
        "if num<0:\n",
        "  print(\"Negative number\")\n",
        "elif num == 0:\n",
        "  print(1) \n",
        "else:\n",
        "  for i in range(1,num+1):\n",
        "    factorial = factorial * i\n",
        "  print(factorial)    \n",
        "\n"
      ]
    },
    {
      "cell_type": "markdown",
      "metadata": {
        "id": "uv9YL58--NDN"
      },
      "source": [
        "2.Write a program to generate Fibonacci series of N terms."
      ]
    },
    {
      "cell_type": "code",
      "execution_count": 5,
      "metadata": {
        "colab": {
          "base_uri": "https://localhost:8080/"
        },
        "id": "ulfcyyww-f14",
        "outputId": "55467f37-5411-4fa3-8109-7f05dfd0e7bf"
      },
      "outputs": [
        {
          "output_type": "stream",
          "name": "stdout",
          "text": [
            "Enter the terms:5\n",
            "0\n",
            "1\n",
            "1\n",
            "2\n",
            "3\n"
          ]
        }
      ],
      "source": [
        "def fib(n):\n",
        "  if n==0:\n",
        "    return 0\n",
        "  elif n==1:\n",
        "    return 1\n",
        "  else:\n",
        "    return fib(n-1) + fib(n-2)      \n",
        "for i in range(int(input(\"Enter the terms:\"))):\n",
        "     print(fib(i))     "
      ]
    },
    {
      "cell_type": "markdown",
      "metadata": {
        "id": "3qQcyUH9BLwR"
      },
      "source": [
        "3.Write a program to find the sum of all items in a list.[using for loop]"
      ]
    },
    {
      "cell_type": "code",
      "execution_count": null,
      "metadata": {
        "colab": {
          "base_uri": "https://localhost:8080/"
        },
        "id": "-sRsz7CuBlDh",
        "outputId": "ba3a78b9-d91c-4c47-f30d-d6d89beede82"
      },
      "outputs": [
        {
          "name": "stdout",
          "output_type": "stream",
          "text": [
            "enter the size of array:4\n",
            "enter the elements:1\n",
            "enter the elements:2\n",
            "enter the elements:3\n",
            "enter the elements:4\n",
            "[1, 2, 3, 4]\n",
            "Sum of all elements in given list: 10\n"
          ]
        }
      ],
      "source": [
        "num=int(input(\"enter the size of array:\"))\n",
        "array=[]\n",
        "sum=0\n",
        "for i in range(0,num):\n",
        "  arr=int(input(\"enter the elements:\"))\n",
        "  array.append(arr)\n",
        "print(array)  \n",
        "for i in range(0,len(array)):\n",
        "  sum=sum+array[i]\n",
        "print(\"Sum of all elements in given list:\",sum)  \n"
      ]
    },
    {
      "cell_type": "markdown",
      "metadata": {
        "id": "wkKzSJhFFTdz"
      },
      "source": [
        "4.Generate a list of four digit numbers in a given range with all their digits even and the number is a perfect square"
      ]
    },
    {
      "cell_type": "code",
      "execution_count": 3,
      "metadata": {
        "id": "H1IrIZhkF_M3",
        "colab": {
          "base_uri": "https://localhost:8080/"
        },
        "outputId": "e5251030-8201-4f7c-c0b5-c0f9dd92125a"
      },
      "outputs": [
        {
          "output_type": "stream",
          "name": "stdout",
          "text": [
            "['4624', '6084', '6400', '8464']\n"
          ]
        }
      ],
      "source": [
        "lis=[ ]\n",
        "for i in range(1000,10000):\n",
        "  n=str(i)\n",
        "  a=int(n[0])\n",
        "  b=int(n[1])\n",
        "  c=int(n[2])\n",
        "  d=int(n[3])\n",
        "  f=i**(0.5)\n",
        "  if a%2==0 and b%2==0 and c%2==0 and d%2==0:\n",
        "    if (f//1)==f:\n",
        "      lis.append(n)\n",
        "print(lis)      "
      ]
    },
    {
      "cell_type": "markdown",
      "metadata": {
        "id": "BwnkLf_pGdSt"
      },
      "source": [
        "5.Write a program using a for loop to print the multiplication table of n,is enter by the user."
      ]
    },
    {
      "cell_type": "code",
      "execution_count": null,
      "metadata": {
        "colab": {
          "base_uri": "https://localhost:8080/"
        },
        "id": "Jt-u0SD0GxXL",
        "outputId": "ccb3cf57-d1e4-4cae-832a-f8e00a214397"
      },
      "outputs": [
        {
          "name": "stdout",
          "output_type": "stream",
          "text": [
            "Enter the number of which the user wants to print the multiplication table: 3\n",
            "enter the limit:12\n",
            "3 x 1 = 3\n",
            "3 x 2 = 6\n",
            "3 x 3 = 9\n",
            "3 x 4 = 12\n",
            "3 x 5 = 15\n",
            "3 x 6 = 18\n",
            "3 x 7 = 21\n",
            "3 x 8 = 24\n",
            "3 x 9 = 27\n",
            "3 x 10 = 30\n",
            "3 x 11 = 33\n",
            "3 x 12 = 36\n"
          ]
        }
      ],
      "source": [
        "number = int(input (\"Enter the number of which the user wants to print the multiplication table: \")) \n",
        "l=int(input(\"enter the limit:\"))     \n",
        "for count in range(1,l+1):  \n",
        "  multiplication=number*count    \n",
        "  print (number, 'x', count, '=', multiplication)    "
      ]
    },
    {
      "cell_type": "markdown",
      "metadata": {
        "id": "1nu2SzttJdNH"
      },
      "source": [
        "6.Display the given pyramid with the step number accepted\n",
        "from the user. Eg: N=4\n",
        "1\n",
        "2 4\n",
        "3 6 9\n",
        "4 8 12 16"
      ]
    },
    {
      "cell_type": "code",
      "execution_count": null,
      "metadata": {
        "colab": {
          "base_uri": "https://localhost:8080/"
        },
        "id": "drvKH_A3J18G",
        "outputId": "1508229e-ec2b-4e5e-d4c4-953141b3d9be"
      },
      "outputs": [
        {
          "output_type": "stream",
          "name": "stdout",
          "text": [
            "enter the rows:4\n",
            "1 \n",
            "2 4 \n",
            "3 6 9 \n",
            "4 8 12 16 \n"
          ]
        }
      ],
      "source": [
        "num=int(input(\"enter the rows:\"))\n",
        "for i in range(1,num+1):\n",
        "  for j in range(1,i+1):\n",
        "    print(i*j,end=\" \")\n",
        "  print()    "
      ]
    },
    {
      "cell_type": "markdown",
      "metadata": {
        "id": "7-fUuV_DNn4Y"
      },
      "source": [
        "7.Write a programe to find all factor of a number.[using while loop]"
      ]
    },
    {
      "cell_type": "code",
      "execution_count": null,
      "metadata": {
        "colab": {
          "base_uri": "https://localhost:8080/"
        },
        "id": "Wt2AjZjDN4f0",
        "outputId": "926d9bdf-5960-4f7b-e5ad-f3702664bcfa"
      },
      "outputs": [
        {
          "name": "stdout",
          "output_type": "stream",
          "text": [
            "enter the number:42\n",
            "Factor of 42 : 1 2 3 6 7 14 21 42 "
          ]
        }
      ],
      "source": [
        "num=int(input(\"enter the number:\"))\n",
        "print(\"Factor of\",num,\":\",end=\" \")\n",
        "i=1\n",
        "while i<=num:\n",
        "  if num%i==0:\n",
        "    print(i,end=\" \")\n",
        "  i=i+1  "
      ]
    },
    {
      "cell_type": "markdown",
      "metadata": {
        "id": "V7Rqp3ZmIxuH"
      },
      "source": [
        "8.Write a program to print the reverse of a number. [use while\n",
        "loop]"
      ]
    },
    {
      "cell_type": "code",
      "execution_count": null,
      "metadata": {
        "colab": {
          "base_uri": "https://localhost:8080/"
        },
        "id": "xcJg7fQxI5aK",
        "outputId": "2f202c7f-4e77-488f-e469-639c884d0f3b"
      },
      "outputs": [
        {
          "output_type": "stream",
          "name": "stdout",
          "text": [
            "Enter the number:5678\n",
            "reverse of 0 : 8765\n"
          ]
        }
      ],
      "source": [
        "num=int(input(\"Enter the number:\"))\n",
        "reverse=0\n",
        "while(num!=0):\n",
        "  digit=num%10\n",
        "  reverse=reverse*10+digit\n",
        "  num=num//10\n",
        "print(\"reverse of\",num,\":\",reverse)  \n"
      ]
    },
    {
      "cell_type": "markdown",
      "metadata": {
        "id": "nqQAoklGLwro"
      },
      "source": [
        "9. Write a program to find whether the given number is an Amstrong number or not. [use while loop]"
      ]
    },
    {
      "cell_type": "code",
      "execution_count": null,
      "metadata": {
        "colab": {
          "base_uri": "https://localhost:8080/"
        },
        "id": "PWBNphtsMAN-",
        "outputId": "c74a787f-42ca-43cb-8691-9c3c1e1d5cbd"
      },
      "outputs": [
        {
          "name": "stdout",
          "output_type": "stream",
          "text": [
            "Enter the number:153\n",
            "153 is a amstrong number\n"
          ]
        }
      ],
      "source": [
        "num=int(input(\"Enter the number:\"))\n",
        "order=len(str(num))\n",
        "sum=0\n",
        "temp=num\n",
        "while(temp>0):\n",
        "  digit=temp%10\n",
        "  sum=sum+digit**order\n",
        "  temp=temp//10\n",
        "if (sum==num):\n",
        "    print(num,\"is a amstrong number\")  \n",
        "else:\n",
        "    print(num,\"not a amstrong\")  \n",
        "  "
      ]
    },
    {
      "cell_type": "markdown",
      "metadata": {
        "id": "MaKS4nYrRq-K"
      },
      "source": [
        "10.Construct following pattern using nested loop\n",
        "*\n",
        "* *\n",
        "* * *\n",
        "* * * *\n",
        "* * * * *\n",
        "* * * *\n",
        "* * *\n",
        "* *\n",
        "*"
      ]
    },
    {
      "cell_type": "code",
      "execution_count": null,
      "metadata": {
        "colab": {
          "base_uri": "https://localhost:8080/"
        },
        "id": "eeH2CoVcRwYL",
        "outputId": "7e1aa725-b5fb-4ce5-ebf0-7e2780cf74c3"
      },
      "outputs": [
        {
          "output_type": "stream",
          "name": "stdout",
          "text": [
            "\n",
            "* \n",
            "* * \n",
            "* * * \n",
            "* * * * \n",
            "* * * * * \n",
            "* * * * \n",
            "* * * \n",
            "* * \n",
            "* \n"
          ]
        }
      ],
      "source": [
        "num=5\n",
        "for i in range(num):\n",
        "  for j in range(i):\n",
        "    print('*',end=\" \")\n",
        "  print()  \n",
        "for i in range(num,0,-1):\n",
        "  for j in range(i):\n",
        "    print('*',end=\" \")\n",
        "  print()    "
      ]
    }
  ],
  "metadata": {
    "colab": {
      "provenance": []
    },
    "kernelspec": {
      "display_name": "Python 3",
      "name": "python3"
    },
    "language_info": {
      "name": "python"
    }
  },
  "nbformat": 4,
  "nbformat_minor": 0
}